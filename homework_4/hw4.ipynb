{
 "cells": [
  {
   "metadata": {},
   "cell_type": "markdown",
   "source": [
    "# Задание 1\n",
    "Напишите функцию, которая принимает на вход строку и проверяет, является ли она валидным транспортным номером (1 буква, 3 цифры, 2 буквы, 2–3 цифры). Обратите внимание, что не все буквы кириллического алфавита используются в транспортных номерах.\n",
    "\n",
    "Если номер валиден, то функция должна возвращать отдельно номер и регион.\n",
    "\n",
    "Примеры работы программы:\n",
    "car_id = 'А222BС96'\n",
    "Результат: Номер А222BС валиден. Регион: 96.\n",
    "\n",
    "car_id = 'АБ22ВВ193'\n",
    "Результат: Номер не валиден."
   ],
   "id": "b66643b39aca5af1"
  },
  {
   "metadata": {
    "ExecuteTime": {
     "end_time": "2025-10-23T14:34:31.340009Z",
     "start_time": "2025-10-23T14:34:31.335477Z"
    }
   },
   "cell_type": "code",
   "source": [
    "from re import compile\n",
    "\n",
    "cyrillic_available_letters = 'АВЕКМНОРСТУХ'\n",
    "\n",
    "latin_cyrillic = str.maketrans({\n",
    "    \"A\": \"А\", \"B\": \"В\", \n",
    "    \"E\": \"Е\", \"K\": \"К\", \n",
    "    \"M\": \"М\", \"H\": \"Н\", \n",
    "    \"O\": \"О\", \"P\": \"Р\",\n",
    "    \"C\": \"С\", \"T\": \"Т\", \n",
    "    \"Y\": \"У\", \"X\": \"Х\",\n",
    "})\n",
    "\n",
    "\n",
    "regular = compile(rf\"^([{cyrillic_available_letters}])(\\d{{3}})([{cyrillic_available_letters}]{{2}})[\\s-]?(\\d{{2,3}})$\")\n",
    "                  \n",
    "\n",
    "def check_car_number(number: str):\n",
    "    \n",
    "    if not isinstance(number, str):\n",
    "        return f'Номер {number} не валиден'\n",
    "    \n",
    "    number = number.translate(latin_cyrillic)\n",
    "    if matched := regular.match(number):\n",
    "        return f\"Номер {''.join(matched.groups()[0:3])} валиден. Регион: {int(matched.group(4))}\"\n",
    "    \n",
    "    return f'Номер {number} не валиден'\n",
    "\n",
    "numbers = (\n",
    "    'А222ВС96',  # cyrillic\n",
    "    'A292ВС96',  # cyrillic + latin       \n",
    "    'A777BC96',  # latin       \n",
    "    'A222ВN96'   # not valid\n",
    ")\n",
    "\n",
    "for number in numbers:\n",
    "    result = check_car_number(number)\n",
    "    print(result)"
   ],
   "id": "bc402e38aca9d66c",
   "outputs": [
    {
     "name": "stdout",
     "output_type": "stream",
     "text": [
      "Номер А222ВС валиден. Регион: 96\n",
      "Номер А292ВС валиден. Регион: 96\n",
      "Номер А777ВС валиден. Регион: 96\n",
      "Номер А222ВN96 не валиден\n"
     ]
    }
   ],
   "execution_count": 31
  },
  {
   "metadata": {},
   "cell_type": "markdown",
   "source": [
    "# Задание 2 (не обязательное)\n",
    "Напишите функцию, которая будет удалять все последовательные повторы слов из заданной строки при помощи регулярных выражений.\n",
    "\n",
    "Пример работы программы:\n",
    "some_string = 'Напишите функцию функцию, которая будет будет будет будет удалять все все все все последовательные повторы слов из из из из заданной строки строки при помощи регулярных выражений'\n",
    "\n",
    "Результат: Напишите функцию, которая будет удалять все последовательные повторы слов из заданной строки при помощи регулярных выражений."
   ],
   "id": "b44c0078deb56af3"
  },
  {
   "metadata": {
    "ExecuteTime": {
     "end_time": "2025-10-23T15:13:49.452291Z",
     "start_time": "2025-10-23T15:13:49.449254Z"
    }
   },
   "cell_type": "code",
   "source": [
    "from re import sub\n",
    "\n",
    "some_string = 'Напишите функцию функцию, которая будет будет будет будет удалять все все все все последовательные повторы слов из из из из заданной строки строки при помощи регулярных выражений'\n",
    "\n",
    "result = sub(r'\\b(\\w+)(\\s+\\1)+\\b', r'\\1', some_string)\n",
    "print(result)"
   ],
   "id": "e7c757a75af28f2c",
   "outputs": [
    {
     "name": "stdout",
     "output_type": "stream",
     "text": [
      "Напишите функцию, которая будет удалять все последовательные повторы слов из заданной строки при помощи регулярных выражений\n"
     ]
    }
   ],
   "execution_count": 33
  }
 ],
 "metadata": {
  "kernelspec": {
   "display_name": "Python 3",
   "language": "python",
   "name": "python3"
  },
  "language_info": {
   "codemirror_mode": {
    "name": "ipython",
    "version": 2
   },
   "file_extension": ".py",
   "mimetype": "text/x-python",
   "name": "python",
   "nbconvert_exporter": "python",
   "pygments_lexer": "ipython2",
   "version": "2.7.6"
  }
 },
 "nbformat": 4,
 "nbformat_minor": 5
}
