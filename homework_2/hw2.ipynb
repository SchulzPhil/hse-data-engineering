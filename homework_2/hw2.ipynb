{
 "cells": [
  {
   "metadata": {},
   "cell_type": "markdown",
   "source": [
    "# Задание 1\n",
    "Печатные газеты использовали свой формат дат для каждого выпуска. Для каждой газеты из списка напишите формат указанной даты для перевода в объект datetime:\n",
    "The Moscow Times - Wednesday, October 2, 2002\n",
    "The Guardian - Friday, 11.10.13\n",
    "Daily News - Thursday, 18 August 1977\n",
    "Пример работы программы\n",
    "Программа должна выводить на экран объекты типа datetime, соответствующие датам в условии задачи"
   ],
   "id": "5864f9ddae0f7776"
  },
  {
   "metadata": {
    "collapsed": true,
    "ExecuteTime": {
     "end_time": "2025-10-17T19:59:58.300634Z",
     "start_time": "2025-10-17T19:59:58.295714Z"
    }
   },
   "cell_type": "code",
   "source": [
    "from datetime import datetime\n",
    "\n",
    "newspapers = (\n",
    "    'The Moscow Times - Wednesday, October 2, 2002',\n",
    "    'The Guardian - Friday, 11.10.13',\n",
    "    'Daily News - Thursday, 18 August 1977'\n",
    ")\n",
    "\n",
    "possible_formats = (\n",
    "    '%A, %B %d, %Y',\n",
    "    '%A, %d.%m.%y',\n",
    "    '%A, %d %B %Y'\n",
    ")\n",
    "\n",
    "def make_datetime(date_str: str) -> datetime:\n",
    "    for _format in possible_formats:\n",
    "        try:\n",
    "            return datetime.strptime(date_str, _format)\n",
    "        except ValueError:\n",
    "            continue\n",
    "    \n",
    "for paper in newspapers:\n",
    "    paper_name, to_datetime = paper.split(' - ')\n",
    "    date_time = make_datetime(to_datetime)\n",
    "    print(f\"{paper_name} - {date_time.date()}\")\n",
    "    "
   ],
   "id": "initial_id",
   "outputs": [
    {
     "name": "stdout",
     "output_type": "stream",
     "text": [
      "The Moscow Times - 2002-10-02\n",
      "The Guardian - 2013-10-11\n",
      "Daily News - 1977-08-18\n"
     ]
    }
   ],
   "execution_count": 43
  },
  {
   "metadata": {},
   "cell_type": "markdown",
   "source": [
    "# Задание 2\n",
    "Напишите функцию date_range, которая возвращает список дат за период от start_date до end_date. Даты должны вводиться в формате YYYY-MM-DD. В случае неверного формата или при start_date > end_date должен возвращаться пустой список.\n",
    "\n",
    "Примеры работы программы:\n",
    "date_range(‘2022-01-01’, ‘2022-01-03’)\n",
    "[‘2022-01-01’, ‘2022-01-02’, ‘2022-01-03’]"
   ],
   "id": "4d469eb71cbd7df6"
  },
  {
   "metadata": {
    "ExecuteTime": {
     "end_time": "2025-10-17T20:00:44.426209Z",
     "start_time": "2025-10-17T20:00:44.422113Z"
    }
   },
   "cell_type": "code",
   "source": [
    "from datetime import datetime, timedelta\n",
    "\n",
    "def date_range(start: str, end: str) -> list:\n",
    "    _format = \"%Y-%m-%d\"\n",
    "    start_date: datetime.date\n",
    "    end_date: datetime.date\n",
    "    \n",
    "    try:\n",
    "        start_date = datetime.strptime(start, _format).date()\n",
    "        end_date = datetime.strptime(end, _format).date()\n",
    "    except ValueError:\n",
    "        return []\n",
    "    \n",
    "    if start_date > end_date:\n",
    "        return []\n",
    "    elif start_date == end_date:\n",
    "        return [str(start_date)]\n",
    "    \n",
    "    range_dates = []\n",
    "    cursor = start_date\n",
    "    while cursor <= end_date:\n",
    "        range_dates.append(str(cursor))\n",
    "        cursor += timedelta(days=1)\n",
    "        \n",
    "    return range_dates\n",
    "\n",
    "result = date_range('2022-01-01', '2022-02-01')\n",
    "print(result)\n"
   ],
   "id": "ab15780c4340c625",
   "outputs": [
    {
     "name": "stdout",
     "output_type": "stream",
     "text": [
      "['2022-01-01', '2022-01-02', '2022-01-03', '2022-01-04', '2022-01-05', '2022-01-06', '2022-01-07', '2022-01-08', '2022-01-09', '2022-01-10', '2022-01-11', '2022-01-12', '2022-01-13', '2022-01-14', '2022-01-15', '2022-01-16', '2022-01-17', '2022-01-18', '2022-01-19', '2022-01-20', '2022-01-21', '2022-01-22', '2022-01-23', '2022-01-24', '2022-01-25', '2022-01-26', '2022-01-27', '2022-01-28', '2022-01-29', '2022-01-30', '2022-01-31', '2022-02-01']\n"
     ]
    }
   ],
   "execution_count": 46
  },
  {
   "metadata": {},
   "cell_type": "markdown",
   "source": "",
   "id": "d43a7651de00775b"
  }
 ],
 "metadata": {
  "kernelspec": {
   "display_name": "Python 3",
   "language": "python",
   "name": "python3"
  },
  "language_info": {
   "codemirror_mode": {
    "name": "ipython",
    "version": 2
   },
   "file_extension": ".py",
   "mimetype": "text/x-python",
   "name": "python",
   "nbconvert_exporter": "python",
   "pygments_lexer": "ipython2",
   "version": "2.7.6"
  }
 },
 "nbformat": 4,
 "nbformat_minor": 5
}
